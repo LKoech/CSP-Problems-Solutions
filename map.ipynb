{
 "cells": [
  {
   "cell_type": "code",
   "execution_count": null,
   "metadata": {},
   "outputs": [],
   "source": [
    "#The states include;\n",
    "#Western Australia = WA\n",
    "#Northern Territory = NT\n",
    "#SouthAustralis = SA\n",
    "#Queensland = Q\n",
    "#NewSouthWales = NSW\n",
    "#Victoria = V\n",
    "#Tasmania = T\n",
    "#colurs; red,green and blue\n",
    "import constraint\n",
    "\n",
    "problem = constraint.Problem()\n",
    "\n",
    "problem.addVariable(\"WA\",[\"Red\",\"Green\",\"Blue\"])\n",
    "problem.addVariable(\"NT\",[\"Red\",\"Green\",\"Blue\"])\n",
    "problem.addVariable(\"SA\",[\"Red\",\"Green\",\"Blue\"])\n",
    "problem.addVariable(\"Q\",[\"Red\",\"Green\",\"Blue\"])\n",
    "problem.addVariable(\"NSW\",[\"Red\",\"Green\",\"Blue\"])\n",
    "problem.addVariable(\"V\",[\"Red\",\"Green\",\"Blue\"])\n",
    "problem.addVariable(\"T\",[\"Red\",\"Green\",\"Blue\"])\n",
    "\n",
    "def myconstraint(WA,NT,SA,Q,NSW,V,T):\n",
    "    if (WA!=NT)&(WA!=SA)&(SA!=NT) & \\\n",
    "        (Q!=NT)&(Q!=NSW)&(V!=SA) & \\\n",
    "            (V!=T)&(Q!=SA)&(NSW!=SA)&(V!=NSW):\n",
    "        return True\n",
    "problem.addConstraint(myconstraint,[\"WA\",\"NT\",\"SA\",\"Q\",\"NSW\",\"V\",\"T\"])\n",
    "\n",
    "solutions = problem.getSolution()\n",
    "for solution in solutions:\n",
    "    print(solution)\n",
    "\n",
    "     \n",
    "            \n",
    "    "
   ]
  }
 ],
 "metadata": {
  "language_info": {
   "name": "python"
  },
  "orig_nbformat": 4
 },
 "nbformat": 4,
 "nbformat_minor": 2
}

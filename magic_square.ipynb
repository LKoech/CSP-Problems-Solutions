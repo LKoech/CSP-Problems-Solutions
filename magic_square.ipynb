{
 "cells": [
  {
   "cell_type": "code",
   "execution_count": 2,
   "metadata": {},
   "outputs": [
    {
     "name": "stdout",
     "output_type": "stream",
     "text": [
      "Collecting python-constraint\n",
      "  Downloading python-constraint-1.4.0.tar.bz2 (18 kB)\n",
      "  Preparing metadata (setup.py) ... \u001b[?25ldone\n",
      "\u001b[?25hBuilding wheels for collected packages: python-constraint\n",
      "  Building wheel for python-constraint (setup.py) ... \u001b[?25ldone\n",
      "\u001b[?25h  Created wheel for python-constraint: filename=python_constraint-1.4.0-py2.py3-none-any.whl size=24058 sha256=e0a2b1a504e2ee063ba7b46d0897f903a2d7747c49a9355c0b61ad89cecbf605\n",
      "  Stored in directory: /home/codespace/.cache/pip/wheels/2e/f2/2b/cb08b5fe129e4f69b7033061f256e5c551b0aa1160c2872aee\n",
      "Successfully built python-constraint\n",
      "Installing collected packages: python-constraint\n",
      "Successfully installed python-constraint-1.4.0\n",
      "\n",
      "\u001b[1m[\u001b[0m\u001b[34;49mnotice\u001b[0m\u001b[1;39;49m]\u001b[0m\u001b[39;49m A new release of pip is available: \u001b[0m\u001b[31;49m23.1.2\u001b[0m\u001b[39;49m -> \u001b[0m\u001b[32;49m23.2.1\u001b[0m\n",
      "\u001b[1m[\u001b[0m\u001b[34;49mnotice\u001b[0m\u001b[1;39;49m]\u001b[0m\u001b[39;49m To update, run: \u001b[0m\u001b[32;49mpip install --upgrade pip\u001b[0m\n",
      "Note: you may need to restart the kernel to use updated packages.\n"
     ]
    }
   ],
   "source": [
    "pip install python-constraint"
   ]
  },
  {
   "cell_type": "code",
   "execution_count": 1,
   "metadata": {},
   "outputs": [
    {
     "name": "stdout",
     "output_type": "stream",
     "text": [
      "6 7 2 \n",
      "1 5 9 \n",
      "8 3 4 \n",
      "\n",
      "6 1 8 \n",
      "7 5 3 \n",
      "2 9 4 \n",
      "\n",
      "8 1 6 \n",
      "3 5 7 \n",
      "4 9 2 \n",
      "\n",
      "8 3 4 \n",
      "1 5 9 \n",
      "6 7 2 \n",
      "\n",
      "4 3 8 \n",
      "9 5 1 \n",
      "2 7 6 \n",
      "\n",
      "4 9 2 \n",
      "3 5 7 \n",
      "8 1 6 \n",
      "\n",
      "2 7 6 \n",
      "9 5 1 \n",
      "4 3 8 \n",
      "\n",
      "2 9 4 \n",
      "7 5 3 \n",
      "6 1 8 \n",
      "\n"
     ]
    }
   ],
   "source": [
    "from constraint import *\n",
    "\n",
    "problem = Problem()\n",
    "\n",
    "problem.addVariables(range(9), range(1, 10))\n",
    "\n",
    "problem.addConstraint(AllDifferentConstraint(), range(9))\n",
    "problem.addConstraint(ExactSumConstraint(15), [0, 4, 8])\n",
    "problem.addConstraint(ExactSumConstraint(15), [2, 4, 6])\n",
    "\n",
    "for row in range(3):\n",
    "    problem.addConstraint(ExactSumConstraint(15), [row * 3 + i for i in range(3)])\n",
    "for col in range(3):\n",
    "    problem.addConstraint(ExactSumConstraint(15), [col + i * 3 for i in range(3)])\n",
    "\n",
    "solutions = problem.getSolutions()\n",
    "for solution in solutions:\n",
    "    for row in range(3):\n",
    "        for col in range(3):\n",
    "            print(solution[row * 3 + col], end=' ')\n",
    "        print()  # This will move to the next line after each row is printed\n",
    "    print()  # This will add a blank line between different solutions (if multiple solutions exist)\n"
   ]
  },
  {
   "cell_type": "code",
   "execution_count": null,
   "metadata": {},
   "outputs": [],
   "source": []
  }
 ],
 "metadata": {
  "kernelspec": {
   "display_name": "Python 3",
   "language": "python",
   "name": "python3"
  },
  "language_info": {
   "codemirror_mode": {
    "name": "ipython",
    "version": 3
   },
   "file_extension": ".py",
   "mimetype": "text/x-python",
   "name": "python",
   "nbconvert_exporter": "python",
   "pygments_lexer": "ipython3",
   "version": "3.10.8"
  },
  "orig_nbformat": 4
 },
 "nbformat": 4,
 "nbformat_minor": 2
}
